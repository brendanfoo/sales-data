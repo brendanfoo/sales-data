{
 "cells": [
  {
   "cell_type": "markdown",
   "id": "3f465500",
   "metadata": {},
   "source": [
    "# Project 2, Part 1, Create and load the product mapping table\n",
    "\n",
    "University of California, Berkeley\n",
    "\n",
    "Master of Information and Data Science (MIDS) program\n",
    "\n",
    "w205 - Fundamentals of Data Engineering\n",
    "\n",
    "Student:\n",
    "\n",
    "Year:\n",
    "\n",
    "Semester:\n",
    "\n",
    "Section:\n"
   ]
  },
  {
   "cell_type": "markdown",
   "id": "33c6e20e",
   "metadata": {},
   "source": [
    "# Included Modules and Packages\n",
    "\n",
    "Code cell containing your includes for modules and packages"
   ]
  },
  {
   "cell_type": "code",
   "execution_count": null,
   "id": "530d745a",
   "metadata": {},
   "outputs": [],
   "source": [
    "import csv\n",
    "\n",
    "import math\n",
    "import numpy as np\n",
    "import pandas as pd\n",
    "\n",
    "import psycopg2"
   ]
  },
  {
   "cell_type": "markdown",
   "id": "c91c8869",
   "metadata": {},
   "source": [
    "# Supporting code\n",
    "\n",
    "Code cells containing any supporting code, such as connecting to the database, any functions, etc.  \n",
    "\n",
    "Remember you can freely use any code from the labs. You do not need to cite code from the labs."
   ]
  },
  {
   "cell_type": "code",
   "execution_count": null,
   "id": "8e09ebb0",
   "metadata": {},
   "outputs": [],
   "source": [
    "#\n",
    "# function to run a select query and return rows in a pandas dataframe\n",
    "# pandas puts all numeric values from postgres to float\n",
    "# if it will fit in an integer, change it to integer\n",
    "#\n",
    "\n",
    "def my_select_query_pandas(query, rollback_before_flag, rollback_after_flag):\n",
    "    \"function to run a select query and return rows in a pandas dataframe\"\n",
    "    \n",
    "    if rollback_before_flag:\n",
    "        connection.rollback()\n",
    "    \n",
    "    df = pd.read_sql_query(query, connection)\n",
    "    \n",
    "    if rollback_after_flag:\n",
    "        connection.rollback()\n",
    "    \n",
    "    # fix the float columns that really should be integers\n",
    "    \n",
    "    for column in df:\n",
    "    \n",
    "        if df[column].dtype == \"float64\":\n",
    "\n",
    "            fraction_flag = False\n",
    "\n",
    "            for value in df[column].values:\n",
    "                \n",
    "                if not np.isnan(value):\n",
    "                    if value - math.floor(value) != 0:\n",
    "                        fraction_flag = True\n",
    "\n",
    "            if not fraction_flag:\n",
    "                df[column] = df[column].astype('Int64')\n",
    "    \n",
    "    return(df)\n",
    "    "
   ]
  },
  {
   "cell_type": "code",
   "execution_count": null,
   "id": "1f198d4d",
   "metadata": {},
   "outputs": [],
   "source": [
    "connection = psycopg2.connect(\n",
    "    user = \"postgres\",\n",
    "    password = \"ucb\",\n",
    "    host = \"postgres\",\n",
    "    port = \"5432\",\n",
    "    database = \"postgres\"\n",
    ")"
   ]
  },
  {
   "cell_type": "code",
   "execution_count": null,
   "id": "dc7a762b",
   "metadata": {},
   "outputs": [],
   "source": [
    "cursor = connection.cursor()"
   ]
  },
  {
   "cell_type": "code",
   "execution_count": null,
   "id": "8d7ad400",
   "metadata": {},
   "outputs": [],
   "source": [
    "def my_read_csv_file(file_name, limit):\n",
    "    \"read the csv file and print only the first limit rows\"\n",
    "    \n",
    "    csv_file = open(file_name, \"r\")\n",
    "    \n",
    "    csv_data = csv.reader(csv_file)\n",
    "    \n",
    "    i = 0\n",
    "    \n",
    "    for row in csv_data:\n",
    "        i += 1\n",
    "        if i <= limit:\n",
    "            print(row)\n",
    "            \n",
    "    print(\"\\nPrinted \", min(limit, i), \"lines of \", i, \"total lines.\")"
   ]
  },
  {
   "cell_type": "markdown",
   "id": "d2e6beed",
   "metadata": {},
   "source": [
    "# 2.1.1 Drop the product mapping table if it exists\n",
    "\n",
    "The mapping table should be named peak_product_mapping.\n"
   ]
  },
  {
   "cell_type": "code",
   "execution_count": null,
   "id": "3d30a2c7",
   "metadata": {},
   "outputs": [],
   "source": [
    "connection.rollback()\n",
    "\n",
    "query = \"\"\"\n",
    "\n",
    "Replace with your SQL\n",
    "\n",
    "\"\"\"\n",
    "\n",
    "cursor.execute(query)\n",
    "\n",
    "connection.commit()\n"
   ]
  },
  {
   "cell_type": "markdown",
   "id": "6c605bc0",
   "metadata": {},
   "source": [
    "# 2.1.2 Create the product mapping table\n",
    "\n",
    "The mapping table should be named peak_product_mapping with the following columns:\n",
    "* product_id numeric(3) - AGM's product id\n",
    "* peak_product_id numeric(12) - Peak's product id\n",
    "\n",
    "product_id should be the primary key\n",
    "\n",
    "AGM has entered its products into Peak's system.  Peak is using its product IDs and not AGM's product IDs.  This table will allow us to map between the two IDs.\n",
    "\n",
    "Note that this table is a normal table, not a staging table.\n"
   ]
  },
  {
   "cell_type": "code",
   "execution_count": null,
   "id": "c23f9e13",
   "metadata": {},
   "outputs": [],
   "source": [
    "connection.rollback()\n",
    "\n",
    "query = \"\"\"\n",
    "\n",
    "Replace with your SQL\n",
    "\n",
    "\"\"\"\n",
    "\n",
    "cursor.execute(query)\n",
    "\n",
    "connection.commit()"
   ]
  },
  {
   "cell_type": "markdown",
   "id": "f35e95b4",
   "metadata": {},
   "source": [
    "# 2.1.3 Create a CSV file of product mapping data and display it\n",
    "\n",
    "Create a CSV file of product mapping data named peak_product_mapping.csv:\n",
    "\n",
    "* Open an editor (such as Jupyter Notebook text editor, vi, vim, nano, pico, etc.)\n",
    "\n",
    "* Copy and paste the field list and data given below\n",
    "\n",
    "```\n",
    "product_id,peak_product_id\n",
    "1,42314677\n",
    "2,42314678\n",
    "3,42314679\n",
    "4,42314680\n",
    "5,42314681\n",
    "6,42314682\n",
    "7,42314683\n",
    "8,42314684\n",
    "```\n",
    "\n",
    "* Save the file as peak_product_mapping.csv\n",
    "\n",
    "\n",
    "Check this file into your GitHub repo\n",
    "\n",
    "\n",
    "To verify that you have create the file correctly, display all the rows in the CSV file using the function my_read_csv_file() (with a limit of 10) from the labs, which is included above for your convenience.  The output should look similar to this:\n",
    "\n",
    "```\n",
    "['product_id', 'peak_product_id']\n",
    "['1', '42314677']\n",
    "['2', '42314678']\n",
    "['3', '42314679']\n",
    "['4', '42314680']\n",
    "['5', '42314681']\n",
    "['6', '42314682']\n",
    "['7', '42314683']\n",
    "['8', '42314684']\n",
    "\n",
    "Printed  9 lines of  9 total lines.\n",
    "```\n"
   ]
  },
  {
   "cell_type": "code",
   "execution_count": null,
   "id": "daabc6a0",
   "metadata": {},
   "outputs": [],
   "source": []
  },
  {
   "cell_type": "markdown",
   "id": "c31ed590",
   "metadata": {},
   "source": [
    "# 2.1.4 Load product mapping data into database table\n",
    "\n",
    "Load the CSV file (peak_product_mapping.csv) into the database table (peak_product_mapping)\n"
   ]
  },
  {
   "cell_type": "code",
   "execution_count": null,
   "id": "481c947b",
   "metadata": {},
   "outputs": [],
   "source": [
    "connection.rollback()\n",
    "\n",
    "query = \"\"\"\n",
    "\n",
    "Replace with your SQL\n",
    "\n",
    "\"\"\"\n",
    "\n",
    "cursor.execute(query)\n",
    "\n",
    "connection.commit()"
   ]
  },
  {
   "cell_type": "markdown",
   "id": "6f844d1e",
   "metadata": {},
   "source": [
    "# 2.1.5 Verify the product mapping loaded correctly\n",
    "\n",
    "Write a query to verify the product mapping loaded correctly\n",
    "\n",
    "Also join to the products table and pull the description as product name\n",
    "\n",
    "Include: product_id, peak_product_id, product_name\n",
    "\n",
    "Sort by product_id\n",
    "\n",
    "Write 1 and only 1 query.  Note that the query may have as many subqueries, including with clauses, as you wish.  \n",
    "\n",
    "Name column headers exactly as shown in the example below. \n",
    "\n",
    "Format data exactly as shown in the example below.\n",
    "\n",
    "Sort data exactly as shown in the example below.\n",
    "\n",
    "Ensure that when you check this Juptyer Notebook into GitHub that the query results in the Pandas dataframe are clearly visible in GitHub.\n",
    "\n",
    "The query should return 8 rows into a Pandas dataframe. The first and last rows should look similar to this: \n",
    "\n",
    "||product_id|peak_product_id|product_name|\n",
    "|---|---|---|---|\n",
    "|0|1|42314677|Pistachio Salmon|\n",
    "|...|...|...|...|\n",
    "|7|8|42314684|Brocolli Stir Fry|\n"
   ]
  },
  {
   "cell_type": "code",
   "execution_count": null,
   "id": "28ad8dd6",
   "metadata": {},
   "outputs": [],
   "source": [
    "rollback_before_flag = True\n",
    "rollback_after_flag = True\n",
    "\n",
    "query = \"\"\"\n",
    "\n",
    "Replace with your SQL\n",
    "\n",
    "\"\"\"\n",
    "\n",
    "my_select_query_pandas(query, rollback_before_flag, rollback_after_flag)"
   ]
  },
  {
   "cell_type": "code",
   "execution_count": null,
   "id": "140562d2",
   "metadata": {},
   "outputs": [],
   "source": []
  }
 ],
 "metadata": {
  "kernelspec": {
   "display_name": "Python 3 (ipykernel)",
   "language": "python",
   "name": "python3"
  },
  "language_info": {
   "codemirror_mode": {
    "name": "ipython",
    "version": 3
   },
   "file_extension": ".py",
   "mimetype": "text/x-python",
   "name": "python",
   "nbconvert_exporter": "python",
   "pygments_lexer": "ipython3",
   "version": "3.9.7"
  }
 },
 "nbformat": 4,
 "nbformat_minor": 5
}
