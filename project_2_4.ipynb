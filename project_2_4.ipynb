{
 "cells": [
  {
   "cell_type": "markdown",
   "id": "3f465500",
   "metadata": {},
   "source": [
    "# Project 2, Part 4, Validate data in the staging tables using SQL\n",
    "\n",
    "University of California, Berkeley\n",
    "\n",
    "Master of Information and Data Science (MIDS) program\n",
    "\n",
    "w205 - Fundamentals of Data Engineering\n"
   ]
  },
  {
   "cell_type": "markdown",
   "id": "33c6e20e",
   "metadata": {},
   "source": [
    "# Included Modules and Packages\n",
    "\n",
    "Code cell containing your includes for modules and packages"
   ]
  },
  {
   "cell_type": "code",
   "execution_count": null,
   "id": "530d745a",
   "metadata": {},
   "outputs": [],
   "source": [
    "import csv\n",
    "\n",
    "import json\n",
    "\n",
    "import math\n",
    "import numpy as np\n",
    "import pandas as pd\n",
    "\n",
    "import psycopg2"
   ]
  },
  {
   "cell_type": "markdown",
   "id": "c91c8869",
   "metadata": {},
   "source": [
    "# Supporting code\n",
    "\n",
    "Code cells containing any supporting code, such as connecting to the database, any functions, etc.  \n",
    "\n",
    "Remember you can freely use any code from the labs. You do not need to cite code from the labs."
   ]
  },
  {
   "cell_type": "code",
   "execution_count": null,
   "id": "8e09ebb0",
   "metadata": {},
   "outputs": [],
   "source": [
    "#\n",
    "# function to run a select query and return rows in a pandas dataframe\n",
    "# pandas puts all numeric values from postgres to float\n",
    "# if it will fit in an integer, change it to integer\n",
    "#\n",
    "\n",
    "def my_select_query_pandas(query, rollback_before_flag, rollback_after_flag):\n",
    "    \"function to run a select query and return rows in a pandas dataframe\"\n",
    "    \n",
    "    if rollback_before_flag:\n",
    "        connection.rollback()\n",
    "    \n",
    "    df = pd.read_sql_query(query, connection)\n",
    "    \n",
    "    if rollback_after_flag:\n",
    "        connection.rollback()\n",
    "    \n",
    "    # fix the float columns that really should be integers\n",
    "    \n",
    "    for column in df:\n",
    "    \n",
    "        if df[column].dtype == \"float64\":\n",
    "\n",
    "            fraction_flag = False\n",
    "\n",
    "            for value in df[column].values:\n",
    "                \n",
    "                if not np.isnan(value):\n",
    "                    if value - math.floor(value) != 0:\n",
    "                        fraction_flag = True\n",
    "\n",
    "            if not fraction_flag:\n",
    "                df[column] = df[column].astype('Int64')\n",
    "    \n",
    "    return(df)\n",
    "    "
   ]
  },
  {
   "cell_type": "code",
   "execution_count": null,
   "id": "5d12068a",
   "metadata": {},
   "outputs": [],
   "source": [
    "connection = psycopg2.connect(\n",
    "    user = \"postgres\",\n",
    "    password = \"ucb\",\n",
    "    host = \"postgres\",\n",
    "    port = \"5432\",\n",
    "    database = \"postgres\"\n",
    ")"
   ]
  },
  {
   "cell_type": "code",
   "execution_count": null,
   "id": "b6e2080e",
   "metadata": {},
   "outputs": [],
   "source": [
    "cursor = connection.cursor()"
   ]
  },
  {
   "cell_type": "markdown",
   "id": "d2e6beed",
   "metadata": {},
   "source": [
    "# 2.4.1 Validate the data types in the staging table stage_1_peak_sales\n",
    "\n",
    "Generally, we do not expect any issues with data types.  Write a simple query that validates the numeric and date columns.\n",
    "\n",
    "* sale_id - validate that is is numeric\n",
    "* sales_date - validate that it is a date\n",
    "* sub_total - validate that it is numeric\n",
    "* tax - validate that it is numeric\n",
    "* total_amount - validate that it is numeric\n",
    "\n",
    "Hint: make use of the operators: \n",
    "* xxxx::numeric\n",
    "* xxxx::date\n",
    "\n",
    "Sort by stage_id\n",
    "\n",
    "The query should return 97 rows into a Pandas dataframe. The first and last rows should look similar to this: \n",
    "\n",
    "||stage_id|sale_id|sale_date|sub_total|tax|total_amount|\n",
    "|---|---|---|---|---|---|---|\n",
    "|0|1|5763728874|2020-10-03|12|0|12|\n",
    "|...|...|...|...|...|...|...|\n",
    "|96|97|5763728673|2020-10-03|48|0|48|"
   ]
  },
  {
   "cell_type": "code",
   "execution_count": null,
   "id": "79f652c9",
   "metadata": {},
   "outputs": [],
   "source": [
    "rollback_before_flag = True\n",
    "rollback_after_flag = True\n",
    "\n",
    "query = \"\"\"\n",
    "\n",
    "Replace with your SQL\n",
    "\n",
    "\"\"\"\n",
    "\n",
    "my_select_query_pandas(query, rollback_before_flag, rollback_after_flag)"
   ]
  },
  {
   "cell_type": "markdown",
   "id": "8684ea21",
   "metadata": {},
   "source": [
    "# 2.4.2 Validate the data types in the staging table stage_1_peak_stores\n",
    "\n",
    "Generally, we do not expect any issues with data types.  Write a simple query that validates the numeric and date columns.\n",
    "\n",
    "* sale_id - validate that it is numeric\n",
    "* location_id - validate that it is numeric\n",
    "\n",
    "Hint: make use of the operator xxxx::numeric\n",
    "\n",
    "Sort by stage_id\n",
    "\n",
    "The query should return 97 rows into a Pandas dataframe. The first and last rows should look similar to this: \n",
    "\n",
    "||stage_id|sale_id|location_id|\n",
    "|---|---|---|---|\n",
    "|0|1|5763728874|12573|\n",
    "|...|...|...|...|\n",
    "|96|97|5763728673|12573|\n"
   ]
  },
  {
   "cell_type": "code",
   "execution_count": null,
   "id": "714b0ef1",
   "metadata": {},
   "outputs": [],
   "source": [
    "rollback_before_flag = True\n",
    "rollback_after_flag = True\n",
    "\n",
    "query = \"\"\"\n",
    "\n",
    "Replace with your SQL\n",
    "\n",
    "\"\"\"\n",
    "\n",
    "my_select_query_pandas(query, rollback_before_flag, rollback_after_flag)"
   ]
  },
  {
   "cell_type": "markdown",
   "id": "34e7442e",
   "metadata": {},
   "source": [
    "# 2.4.3 Validate the data types in the staging table stage_1_peak_customers\n",
    "\n",
    "Generally, we do not expect any issues with data types.  Write a simple query that validates the numeric and date columns.\n",
    "\n",
    "* sale_id - validate that it is numeric\n",
    "* customer_id - validate that it is numeric\n",
    "\n",
    "Hint: make use of the operator xxxx::numeric\n",
    "\n",
    "Sort by stage_id\n",
    "\n",
    "The query should return 97 rows into a Pandas dataframe. The first and last rows should look similar to this: \n",
    "\n",
    "||stage_id|sale_id|customer_id|\n",
    "|---|---|---|---|\n",
    "|0|1|5763728874|3728404|\n",
    "|...|...|...|...|\n",
    "|96|97|5763728673|3728691|"
   ]
  },
  {
   "cell_type": "code",
   "execution_count": null,
   "id": "2bc021f9",
   "metadata": {},
   "outputs": [],
   "source": [
    "rollback_before_flag = True\n",
    "rollback_after_flag = True\n",
    "\n",
    "query = \"\"\"\n",
    "\n",
    "Replace with your SQL\n",
    "\n",
    "\"\"\"\n",
    "\n",
    "my_select_query_pandas(query, rollback_before_flag, rollback_after_flag)"
   ]
  },
  {
   "cell_type": "markdown",
   "id": "68af3a03",
   "metadata": {},
   "source": [
    "# 2.4.4 Validate the data types in the staging table stage_1_peak_line_items\n",
    "\n",
    "Generally, we do not expect any issues with data types.  Write a simple query that validates the numeric and date columns.\n",
    "\n",
    "* sale_id - validate that it is numeric\n",
    "* line_item_id - validate that it is numeric\n",
    "* product_id - validate that it is numeric\n",
    "* price - validate that it is numeric\n",
    "* quantity - validate that it is numeric\n",
    "\n",
    "Hint: make use of the operator xxxx::numeric\n",
    "\n",
    "Sort by stage_id\n",
    "\n",
    "The query should return 352 rows into a Pandas dataframe. The first and last rows should look similar to this: \n",
    "\n",
    "||stage_id|sale_id|line_item_id|product_id|price|quantity|\n",
    "|---|---|---|---|---|---|---|\n",
    "|0|1|5763728874|1|42314680|12|1|\n",
    "|...|...|...|...|...|...|...|\n",
    "|351|352|5763728673|3|42314682|12|1|"
   ]
  },
  {
   "cell_type": "code",
   "execution_count": null,
   "id": "4eb0cbf8",
   "metadata": {},
   "outputs": [],
   "source": [
    "rollback_before_flag = True\n",
    "rollback_after_flag = True\n",
    "\n",
    "query = \"\"\"\n",
    "\n",
    "Replace with your SQL\n",
    "\n",
    "\"\"\"\n",
    "\n",
    "my_select_query_pandas(query, rollback_before_flag, rollback_after_flag)"
   ]
  },
  {
   "cell_type": "markdown",
   "id": "adee4f7e",
   "metadata": {},
   "source": [
    "# 2.4.5 Validate the math on sub_total, tax, and total_amount in stage_1_peak_sales\n",
    "\n",
    "Generally, we do not expect any issues with the math.  Write a simple query that validates the math:\n",
    "\n",
    "total_amount = sub_total + tax\n",
    "\n",
    "It's usually best to write a query that will return the stage_id of rows with errors.  In our case, the query should return no rows, just the stage_id column name.\n",
    "\n",
    "Remember that with staging tables, we need to convert varchar to numeric using column::numeric before math will work.\n",
    "\n",
    "Sort by stage_id\n"
   ]
  },
  {
   "cell_type": "code",
   "execution_count": null,
   "id": "5f686ba2",
   "metadata": {},
   "outputs": [],
   "source": [
    "rollback_before_flag = True\n",
    "rollback_after_flag = True\n",
    "\n",
    "query = \"\"\"\n",
    "\n",
    "Replace with your SQL\n",
    "\n",
    "\"\"\"\n",
    "\n",
    "my_select_query_pandas(query, rollback_before_flag, rollback_after_flag)"
   ]
  },
  {
   "cell_type": "markdown",
   "id": "31fb8def",
   "metadata": {},
   "source": [
    "# 2.4.6 Validate the math between stage_1_peak_sales and stage_1_peak_line_items\n",
    "\n",
    "Generally, we do not expect any issues with the math.  Write a simple query that validates the math:\n",
    "\n",
    "total_sales in stage_1_peak_sales matches the sum of (price x quantity) in stage_1_peak_line_items\n",
    "\n",
    "It's usually best to write a query that will return stage_id of rows with errors.  In our case, the query should return no rows, just the stage_id column name.\n",
    "\n",
    "Remember that with staging tables, we need to convert varchar to numeric using column::numeric before math will work.\n",
    "\n",
    "Sort by stage_id\n"
   ]
  },
  {
   "cell_type": "code",
   "execution_count": null,
   "id": "7eac9797",
   "metadata": {},
   "outputs": [],
   "source": [
    "rollback_before_flag = True\n",
    "rollback_after_flag = True\n",
    "\n",
    "query = \"\"\"\n",
    "\n",
    "Replace with your SQL\n",
    "\n",
    "\"\"\"\n",
    "\n",
    "my_select_query_pandas(query, rollback_before_flag, rollback_after_flag)"
   ]
  },
  {
   "cell_type": "markdown",
   "id": "9d1d44e4",
   "metadata": {},
   "source": [
    "# 2.4.7 Validate the tax is always zero in stage_1_peak_sales\n",
    "\n",
    "It's usually best to write a query that will return stage_id of rows with errors.  In our case, the query should return no rows, just the stage_id column name.\n",
    "\n",
    "Remember that with staging tables, we need to convert varchar to numeric using column::numeric before math will work.\n",
    "\n",
    "Sort by stage_id\n"
   ]
  },
  {
   "cell_type": "code",
   "execution_count": null,
   "id": "60c26bbb",
   "metadata": {},
   "outputs": [],
   "source": [
    "rollback_before_flag = True\n",
    "rollback_after_flag = True\n",
    "\n",
    "query = \"\"\"\n",
    "\n",
    "Replace with your SQL\n",
    "\n",
    "\"\"\"\n",
    "\n",
    "my_select_query_pandas(query, rollback_before_flag, rollback_after_flag)"
   ]
  },
  {
   "cell_type": "markdown",
   "id": "aa86c791",
   "metadata": {},
   "source": [
    "# 2.4.8 Validate the price is always 12 in stage_1_peak_line_items\n",
    "\n",
    "It's usually best to write a query that will return the stage_id of rows with errors.  In our case, the query should return no rows, just the column name of stage_id.\n",
    "\n",
    "Remember that with staging tables, we need to convert varchar to numeric using column::numeric before math will work.\n",
    "\n",
    "Sort by stage_id\n"
   ]
  },
  {
   "cell_type": "code",
   "execution_count": null,
   "id": "80fdb546",
   "metadata": {},
   "outputs": [],
   "source": [
    "rollback_before_flag = True\n",
    "rollback_after_flag = True\n",
    "\n",
    "query = \"\"\"\n",
    "\n",
    "Replace with your SQL\n",
    "\n",
    "\"\"\"\n",
    "\n",
    "my_select_query_pandas(query, rollback_before_flag, rollback_after_flag)"
   ]
  },
  {
   "cell_type": "markdown",
   "id": "715d03d9",
   "metadata": {},
   "source": [
    "# 2.4.9 Validate taxable is always N in stage_1_peak_line_items\n",
    "\n",
    "It's usually best to write a query that will return the stage_id of rows with errors.  In our case, the query should return no rows, just the stage_id column name.\n",
    "\n",
    "Remember that with staging tables, we need to convert varchar to numeric using column::numeric before math will work.\n",
    "\n",
    "Sort by stage_id\n",
    "\n",
    "Pattern your code after the examples in the labs. "
   ]
  },
  {
   "cell_type": "code",
   "execution_count": null,
   "id": "50508324",
   "metadata": {},
   "outputs": [],
   "source": [
    "rollback_before_flag = True\n",
    "rollback_after_flag = True\n",
    "\n",
    "query = \"\"\"\n",
    "\n",
    "Replace with your SQL\n",
    "\n",
    "\"\"\"\n",
    "\n",
    "my_select_query_pandas(query, rollback_before_flag, rollback_after_flag)"
   ]
  },
  {
   "cell_type": "markdown",
   "id": "ecd6fccf",
   "metadata": {},
   "source": [
    "# 2.4.10 Validate the store is the same for all in stage_1_peak_stores\n",
    "\n",
    "It's usually best to write a query that will return rows with errors.  In our case, the query should return no rows, just the column headers.\n",
    "\n",
    "Remember that with staging tables, we need to convert varchar to numeric using column::numeric before math will work.\n",
    "\n",
    "Consider grouping by location_id, name, street, city, state, and zip to find the number_of_duplicates.  Consider using a having clause to verify that the number_of_duplicates is not equal to the number of records in the staging table.\n",
    "\n",
    "This will not return the stage_id header as the previous queries have.  It would return location_id, name, street, city, state, zip, and number_of_duplicates with no rows.\n"
   ]
  },
  {
   "cell_type": "code",
   "execution_count": null,
   "id": "7b831c0c",
   "metadata": {},
   "outputs": [],
   "source": [
    "rollback_before_flag = True\n",
    "rollback_after_flag = True\n",
    "\n",
    "query = \"\"\"\n",
    "\n",
    "Replace with your SQL\n",
    "\n",
    "\"\"\"\n",
    "\n",
    "my_select_query_pandas(query, rollback_before_flag, rollback_after_flag)"
   ]
  },
  {
   "cell_type": "markdown",
   "id": "7970462f",
   "metadata": {},
   "source": [
    "# 2.4.11 Validate the product_id in stage_1_peak_line_items against peak_product_mapping\n",
    "\n",
    "It's usually best to write a query that will return the stage_id of rows with errors.  In our case, the query should return no rows, just the stage_id column name.\n",
    "\n",
    "Remember that with staging tables, we need to convert varchar to numeric using column::numeric before math will work.\n",
    "\n",
    "Sort by stage_id\n"
   ]
  },
  {
   "cell_type": "code",
   "execution_count": null,
   "id": "1048856f",
   "metadata": {},
   "outputs": [],
   "source": [
    "rollback_before_flag = True\n",
    "rollback_after_flag = True\n",
    "\n",
    "query = \"\"\"\n",
    "\n",
    "Replace with your SQL\n",
    "\n",
    "\"\"\"\n",
    "\n",
    "my_select_query_pandas(query, rollback_before_flag, rollback_after_flag)"
   ]
  }
 ],
 "metadata": {
  "kernelspec": {
   "display_name": "Python 3 (ipykernel)",
   "language": "python",
   "name": "python3"
  },
  "language_info": {
   "codemirror_mode": {
    "name": "ipython",
    "version": 3
   },
   "file_extension": ".py",
   "mimetype": "text/x-python",
   "name": "python",
   "nbconvert_exporter": "python",
   "pygments_lexer": "ipython3",
   "version": "3.9.7"
  }
 },
 "nbformat": 4,
 "nbformat_minor": 5
}
