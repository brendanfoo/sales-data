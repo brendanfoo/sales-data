{
 "cells": [
  {
   "cell_type": "markdown",
   "id": "3f465500",
   "metadata": {},
   "source": [
    "# Project 2, Part 3, Create and load staging tables\n",
    "\n",
    "University of California, Berkeley\n",
    "\n",
    "Master of Information and Data Science (MIDS) program\n",
    "\n",
    "w205 - Fundamentals of Data Engineering\n"
   ]
  },
  {
   "cell_type": "markdown",
   "id": "33c6e20e",
   "metadata": {},
   "source": [
    "# Included Modules and Packages\n",
    "\n",
    "Code cell containing your includes for modules and packages"
   ]
  },
  {
   "cell_type": "code",
   "execution_count": null,
   "id": "530d745a",
   "metadata": {},
   "outputs": [],
   "source": [
    "import csv\n",
    "\n",
    "import json\n",
    "\n",
    "import math\n",
    "import numpy as np\n",
    "import pandas as pd\n",
    "\n",
    "import psycopg2"
   ]
  },
  {
   "cell_type": "markdown",
   "id": "c91c8869",
   "metadata": {},
   "source": [
    "# Supporting code\n",
    "\n",
    "Code cells containing any supporting code, such as connecting to the database, any functions, etc.  \n",
    "\n",
    "Remember you can freely use any code from the labs. You do not need to cite code from the labs."
   ]
  },
  {
   "cell_type": "code",
   "execution_count": null,
   "id": "8e09ebb0",
   "metadata": {},
   "outputs": [],
   "source": [
    "#\n",
    "# function to run a select query and return rows in a pandas dataframe\n",
    "# pandas puts all numeric values from postgres to float\n",
    "# if it will fit in an integer, change it to integer\n",
    "#\n",
    "\n",
    "def my_select_query_pandas(query, rollback_before_flag, rollback_after_flag):\n",
    "    \"function to run a select query and return rows in a pandas dataframe\"\n",
    "    \n",
    "    if rollback_before_flag:\n",
    "        connection.rollback()\n",
    "    \n",
    "    df = pd.read_sql_query(query, connection)\n",
    "    \n",
    "    if rollback_after_flag:\n",
    "        connection.rollback()\n",
    "    \n",
    "    # fix the float columns that really should be integers\n",
    "    \n",
    "    for column in df:\n",
    "    \n",
    "        if df[column].dtype == \"float64\":\n",
    "\n",
    "            fraction_flag = False\n",
    "\n",
    "            for value in df[column].values:\n",
    "                \n",
    "                if not np.isnan(value):\n",
    "                    if value - math.floor(value) != 0:\n",
    "                        fraction_flag = True\n",
    "\n",
    "            if not fraction_flag:\n",
    "                df[column] = df[column].astype('Int64')\n",
    "    \n",
    "    return(df)\n",
    "    "
   ]
  },
  {
   "cell_type": "code",
   "execution_count": null,
   "id": "5d12068a",
   "metadata": {},
   "outputs": [],
   "source": [
    "connection = psycopg2.connect(\n",
    "    user = \"postgres\",\n",
    "    password = \"ucb\",\n",
    "    host = \"postgres\",\n",
    "    port = \"5432\",\n",
    "    database = \"postgres\"\n",
    ")"
   ]
  },
  {
   "cell_type": "code",
   "execution_count": null,
   "id": "b6e2080e",
   "metadata": {},
   "outputs": [],
   "source": [
    "cursor = connection.cursor()"
   ]
  },
  {
   "cell_type": "markdown",
   "id": "d2e6beed",
   "metadata": {},
   "source": [
    "# 2.3.1 Drop the staging table stage_1_peak_sales if it exists\n"
   ]
  },
  {
   "cell_type": "code",
   "execution_count": null,
   "id": "3583ee6e",
   "metadata": {},
   "outputs": [],
   "source": [
    "connection.rollback()\n",
    "\n",
    "query = \"\"\"\n",
    "\n",
    "Replace with your SQL\n",
    "\n",
    "\"\"\"\n",
    "\n",
    "cursor.execute(query)\n",
    "\n",
    "connection.commit()\n",
    "\n"
   ]
  },
  {
   "cell_type": "markdown",
   "id": "5ad24a30",
   "metadata": {},
   "source": [
    "# 2.3.2 Drop the staging table stage_1_peak_stores if it exists\n"
   ]
  },
  {
   "cell_type": "code",
   "execution_count": null,
   "id": "afd095c4",
   "metadata": {},
   "outputs": [],
   "source": [
    "connection.rollback()\n",
    "\n",
    "query = \"\"\"\n",
    "\n",
    "Replace with your SQL\n",
    "\n",
    "\"\"\"\n",
    "\n",
    "cursor.execute(query)\n",
    "\n",
    "connection.commit()\n",
    "\n"
   ]
  },
  {
   "cell_type": "markdown",
   "id": "3962bec1",
   "metadata": {},
   "source": [
    "# 2.3.3 Drop the staging table stage_1_peak_customers if it exists\n",
    " "
   ]
  },
  {
   "cell_type": "code",
   "execution_count": null,
   "id": "fe433689",
   "metadata": {},
   "outputs": [],
   "source": [
    "connection.rollback()\n",
    "\n",
    "query = \"\"\"\n",
    "\n",
    "Replace with your SQL\n",
    "\n",
    "\"\"\"\n",
    "\n",
    "cursor.execute(query)\n",
    "\n",
    "connection.commit()\n",
    "\n"
   ]
  },
  {
   "cell_type": "markdown",
   "id": "c5c1e425",
   "metadata": {},
   "source": [
    "# 2.3.4 Drop the staging table stage_1_peak_line_items if it exists\n"
   ]
  },
  {
   "cell_type": "code",
   "execution_count": null,
   "id": "fd93148a",
   "metadata": {},
   "outputs": [],
   "source": [
    "connection.rollback()\n",
    "\n",
    "query = \"\"\"\n",
    "\n",
    "Replace with your SQL\n",
    "\n",
    "\"\"\"\n",
    "\n",
    "cursor.execute(query)\n",
    "\n",
    "connection.commit()\n",
    "\n"
   ]
  },
  {
   "cell_type": "markdown",
   "id": "9b6b3f97",
   "metadata": {},
   "source": [
    "# 2.3.5 Create the staging table stage_1_peak_sales\n",
    "\n",
    "The first column should be stage_id with the data type as serial.\n",
    "\n",
    "For each field in the CSV file, create a column as varchar(100).\n",
    "\n",
    "Remember we do not set a primary key in staging tables.\n"
   ]
  },
  {
   "cell_type": "code",
   "execution_count": null,
   "id": "2a134f5a",
   "metadata": {},
   "outputs": [],
   "source": [
    "connection.rollback()\n",
    "\n",
    "query = \"\"\"\n",
    "\n",
    "Replace with your SQL\n",
    "\n",
    "\"\"\"\n",
    "\n",
    "cursor.execute(query)\n",
    "\n",
    "connection.commit()\n",
    "\n"
   ]
  },
  {
   "cell_type": "markdown",
   "id": "027a3986",
   "metadata": {},
   "source": [
    "# 2.3.6 Create the staging table stage_1_peak_stores\n",
    "\n",
    "The first column should be stage_id with data type as serial.\n",
    "\n",
    "For each field in the CSV file, create a column as varchar(100).\n",
    "\n",
    "Remember we do not set a primary key in staging tables.\n"
   ]
  },
  {
   "cell_type": "code",
   "execution_count": null,
   "id": "1b2ea3a3",
   "metadata": {},
   "outputs": [],
   "source": [
    "connection.rollback()\n",
    "\n",
    "query = \"\"\"\n",
    "\n",
    "Replace with your SQL\n",
    "\n",
    "\"\"\"\n",
    "\n",
    "cursor.execute(query)\n",
    "\n",
    "connection.commit()\n",
    "\n"
   ]
  },
  {
   "cell_type": "markdown",
   "id": "db8d8bb7",
   "metadata": {},
   "source": [
    "# 2.3.7 Create the staging table stage_1_peak_customers\n",
    "\n",
    "\n",
    "The first column should be stage_id with data type as serial.\n",
    "\n",
    "For each field in the CSV file, create a column as varchar(100).\n",
    "\n",
    "Remember we do not set a primary key in staging tables.\n"
   ]
  },
  {
   "cell_type": "code",
   "execution_count": null,
   "id": "2b09f1b3",
   "metadata": {},
   "outputs": [],
   "source": [
    "connection.rollback()\n",
    "\n",
    "query = \"\"\"\n",
    "\n",
    "Replace with your SQL\n",
    "\n",
    "\"\"\"\n",
    "\n",
    "cursor.execute(query)\n",
    "\n",
    "connection.commit()\n",
    "\n"
   ]
  },
  {
   "cell_type": "markdown",
   "id": "37c5a8ae",
   "metadata": {},
   "source": [
    "# 2.3.8 Create the staging table stage_1_peak_line_items\n",
    "\n",
    "\n",
    "The first column should be stage_id with data type as serial.\n",
    "\n",
    "For each field in the CSV file, create a column as varchar(100).\n",
    "\n",
    "Remember we do not set a primary key in staging tables.\n"
   ]
  },
  {
   "cell_type": "code",
   "execution_count": null,
   "id": "c82391ad",
   "metadata": {},
   "outputs": [],
   "source": [
    "connection.rollback()\n",
    "\n",
    "query = \"\"\"\n",
    "\n",
    "Replace with your SQL\n",
    "\n",
    "\"\"\"\n",
    "\n",
    "cursor.execute(query)\n",
    "\n",
    "connection.commit()\n",
    "\n"
   ]
  },
  {
   "cell_type": "markdown",
   "id": "1bcdea38",
   "metadata": {},
   "source": [
    "# 2.3.9 Load the CSV file peak_sales.csv into the table stage_1_peak_sales\n",
    "\n",
    "Remember the stage_id column is a serial and will auto populate, so we need to provide a column list and leave it out of the column list for the load.\n"
   ]
  },
  {
   "cell_type": "code",
   "execution_count": null,
   "id": "5ca0d5f2",
   "metadata": {},
   "outputs": [],
   "source": [
    "connection.rollback()\n",
    "\n",
    "query = \"\"\"\n",
    "\n",
    "Replace with your SQL\n",
    "\n",
    "\"\"\"\n",
    "\n",
    "cursor.execute(query)\n",
    "\n",
    "connection.commit()"
   ]
  },
  {
   "cell_type": "markdown",
   "id": "d1cfcfd1",
   "metadata": {},
   "source": [
    "# 2.3.10 Load the CSV file peak_stores.csv into the table stage_1_peak_stores\n",
    "\n",
    "Remember the stage_id column is a serial and will auto populate, so we need to provide a column list and leave it out of the column list for the load. "
   ]
  },
  {
   "cell_type": "code",
   "execution_count": null,
   "id": "aef6f2db",
   "metadata": {},
   "outputs": [],
   "source": [
    "connection.rollback()\n",
    "\n",
    "query = \"\"\"\n",
    "\n",
    "Replace with your SQL\n",
    "\n",
    "\"\"\"\n",
    "\n",
    "cursor.execute(query)\n",
    "\n",
    "connection.commit()"
   ]
  },
  {
   "cell_type": "markdown",
   "id": "c9be7047",
   "metadata": {},
   "source": [
    "# 2.3.11 Load the CSV file peak_customers.csv into the table stage_1_peak_customers\n",
    "\n",
    "Remember the stage_id column is a serial and will auto populate, so we need to provide a column list and leave it out of the column list for the load."
   ]
  },
  {
   "cell_type": "code",
   "execution_count": null,
   "id": "237e077e",
   "metadata": {},
   "outputs": [],
   "source": [
    "connection.rollback()\n",
    "\n",
    "query = \"\"\"\n",
    "\n",
    "Replace with your SQL\n",
    "\n",
    "\"\"\"\n",
    "\n",
    "cursor.execute(query)\n",
    "\n",
    "connection.commit()"
   ]
  },
  {
   "cell_type": "markdown",
   "id": "7a93d483",
   "metadata": {},
   "source": [
    "# 2.3.12 Load the CSV file peak_line_items.csv into the table stage_1_peak_line_items\n",
    "\n",
    "Remember the stage_id column is a serial and will auto populate, so we need to provide a column list and leave it out of the column list for the load."
   ]
  },
  {
   "cell_type": "code",
   "execution_count": null,
   "id": "18636a3a",
   "metadata": {},
   "outputs": [],
   "source": [
    "connection.rollback()\n",
    "\n",
    "query = \"\"\"\n",
    "\n",
    "Replace with your SQL\n",
    "\n",
    "\"\"\"\n",
    "\n",
    "cursor.execute(query)\n",
    "\n",
    "connection.commit()"
   ]
  },
  {
   "cell_type": "markdown",
   "id": "60e43ccc",
   "metadata": {},
   "source": [
    "# 2.3.13 Verify the load of stage_1_peak_sales by querying the entire table\n",
    "\n",
    "Query the entire table into a Pandas dataframe.  \n",
    "\n",
    "Remember to sort by stage_id so the rows are in the same order as the CSV file to make comparison easier.\n",
    "\n",
    "The query should return 97 rows into a Pandas dataframe. The first and last rows should look similar to this: \n",
    "\n",
    "||stage_id|sale_id|sale_date|sub_total|tax|total_amount|\n",
    "|---|---|---|---|---|---|---|\n",
    "|0|1|5763728874|2020-10-03|12|0|12|\n",
    "|...|...|...|...|...|...|...|\n",
    "|96|97|5763728673|2020-10-03|48|0|48|"
   ]
  },
  {
   "cell_type": "code",
   "execution_count": null,
   "id": "96a2ed38",
   "metadata": {},
   "outputs": [],
   "source": [
    "rollback_before_flag = True\n",
    "rollback_after_flag = True\n",
    "\n",
    "query = \"\"\"\n",
    "\n",
    "Replace with your SQL\n",
    "\n",
    "\"\"\"\n",
    "\n",
    "my_select_query_pandas(query, rollback_before_flag, rollback_after_flag)"
   ]
  },
  {
   "cell_type": "markdown",
   "id": "473fd36d",
   "metadata": {},
   "source": [
    "# 2.3.14 Verify the load of stage_1_peak_stores by querying the entire table\n",
    "\n",
    "Query the entire table into a Pandas dataframe.  \n",
    "\n",
    "Remember to sort by stage_id so the rows are in the same order as the CSV file to make comparison easier.\n",
    "\n",
    "The query should return 97 rows into a Pandas dataframe. The first and last rows should look similar to this: \n",
    "\n",
    "||stage_id|sale_id|location_id|name|street|city|state|zip|\n",
    "|---|---|---|---|---|---|---|---|---|\n",
    "|0|1|5763728874|12573|Acme Gourmet Meals|3000 Telegraph Ave|Berkeley|CA|94705|\n",
    "|...|...|...|...|...|...|...|...|...|\n",
    "|96|97|5763728673|12573|Acme Gourmet Meals|3000 Telegraph Ave|Berkeley|CA|94705|"
   ]
  },
  {
   "cell_type": "code",
   "execution_count": null,
   "id": "05098a37",
   "metadata": {},
   "outputs": [],
   "source": [
    "rollback_before_flag = True\n",
    "rollback_after_flag = True\n",
    "\n",
    "query = \"\"\"\n",
    "\n",
    "Replace with your SQL\n",
    "\n",
    "\"\"\"\n",
    "\n",
    "my_select_query_pandas(query, rollback_before_flag, rollback_after_flag)"
   ]
  },
  {
   "cell_type": "markdown",
   "id": "1402684b",
   "metadata": {},
   "source": [
    "# 2.3.15 Verify the load of stage_1_peak_customers by querying the entire table\n",
    "\n",
    "Query the entire table into a Pandas dataframe.  \n",
    "\n",
    "Remember to sort by stage_id so the rows are in the same order as the CSV file to make comparison easier.\n",
    "\n",
    "The query should return 97 rows into a Pandas dataframe. The first and last rows should look similar to this: \n",
    "\n",
    "||stage_id|sale_id|customer_id|first_name|last_name|street|city|state|zip|\n",
    "|---|---|---|---|---|---|---|---|---|---|\n",
    "|0|1|5763728874|3728404|Darrelle|Dohrmann|46 Farwell Terrace|Oakland|CA|94609|\n",
    "|...|...|...|...|...|...|...|...|...|...|\n",
    "|96|97|5763728673|3728691|Eula|Dewair|3 Crownhardt Road|Albany|CA|94706|\n"
   ]
  },
  {
   "cell_type": "code",
   "execution_count": null,
   "id": "725fb77a",
   "metadata": {},
   "outputs": [],
   "source": [
    "rollback_before_flag = True\n",
    "rollback_after_flag = True\n",
    "\n",
    "query = \"\"\"\n",
    "\n",
    "Replace with your SQL\n",
    "\n",
    "\"\"\"\n",
    "\n",
    "my_select_query_pandas(query, rollback_before_flag, rollback_after_flag)"
   ]
  },
  {
   "cell_type": "markdown",
   "id": "50a50422",
   "metadata": {},
   "source": [
    "# 2.3.16 Verify the load of stage_1_peak_line_items by querying the entire table\n",
    "\n",
    "Query the entire table into a Pandas dataframe.  \n",
    "\n",
    "Remember to sort by stage_id so the rows are in the same order as the CSV file to make comparison easier.\n",
    "\n",
    "The query should return 352 rows into a Pandas dataframe. The first and last rows should look similar to this: \n",
    "\n",
    "||stage_id|sale_id|line_item_id|product_id|price|quantity|taxable|\n",
    "|---|---|---|---|---|---|---|---|\n",
    "|0|1|5763728874|1|42314680|12|1|N|\n",
    "|...|...|...|...|...|...|...|...|\n",
    "|351|352|5763728673|3|42314682|12|1|N|"
   ]
  },
  {
   "cell_type": "code",
   "execution_count": null,
   "id": "41051998",
   "metadata": {},
   "outputs": [],
   "source": [
    "rollback_before_flag = True\n",
    "rollback_after_flag = True\n",
    "\n",
    "query = \"\"\"\n",
    "\n",
    "Replace with your SQL\n",
    "\n",
    "\"\"\"\n",
    "\n",
    "my_select_query_pandas(query, rollback_before_flag, rollback_after_flag)"
   ]
  }
 ],
 "metadata": {
  "kernelspec": {
   "display_name": "Python 3 (ipykernel)",
   "language": "python",
   "name": "python3"
  },
  "language_info": {
   "codemirror_mode": {
    "name": "ipython",
    "version": 3
   },
   "file_extension": ".py",
   "mimetype": "text/x-python",
   "name": "python",
   "nbconvert_exporter": "python",
   "pygments_lexer": "ipython3",
   "version": "3.9.7"
  }
 },
 "nbformat": 4,
 "nbformat_minor": 5
}
