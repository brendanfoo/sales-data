{
 "cells": [
  {
   "cell_type": "markdown",
   "id": "3f465500",
   "metadata": {},
   "source": [
    "# Project 2, Part 7, Analysis on continuing to withhold customer data from 3rd parties\n",
    "\n",
    "University of California, Berkeley\n",
    "\n",
    "Master of Information and Data Science (MIDS) program\n",
    "\n",
    "w205 - Fundamentals of Data Engineering\n"
   ]
  },
  {
   "cell_type": "markdown",
   "id": "1cf92eab",
   "metadata": {},
   "source": [
    "# 2.7 Analysis on continuing to withhold customer data from 3rd parties\n",
    "\n",
    "As stated in the scenario, like most companies, AGM does not want to give out its customer list to 3rd party sales channels.  The downside is, as we have seen, that customer first names, last names, and street addresses will have some variations and not be exact matches.\n",
    "\n",
    "The data science team would like your analysis of both options:\n",
    "\n",
    "1)  Continue to withhold the customer data from 3rd party sales channels\n",
    "\n",
    "2)  Give customer data to 3rd party sales channels\n",
    "\n",
    "The data science team would also like your recommendation on which option you think is best.  \n",
    "\n",
    "In the markdown cell, you must provide:\n",
    "* A meaningful title\n",
    "* Write a brief paragraph for option 1.\n",
    "* Write a brief paragraph for option 2.\n",
    "* Write a brief paragraph with your recommendation, which must be either option 1 or option 2, you cannot recommend something else.\n",
    "\n",
    "Put the title and all 3 paragraphs in a single markdown cell.\n",
    "\n",
    "You are not required to write any queries nor any code nor create any data visualizations.  Simply provide English text.\n"
   ]
  },
  {
   "cell_type": "markdown",
   "id": "c8086a63",
   "metadata": {},
   "source": [
    "# Don't reinvent the wheel\n",
    "\n",
    "Regarding (1) 'continue to withhold customer data from 3rd party sales channels', the current issues with that as we have seen in previous queries is a unmatch of roughly 13% between the sales data provided by PEAK and the customers data set from AGM. As of now, with close to a hundred customers, there would only mean about 13 customers are not being matched. As of now, the full consequences of the unmatch is unclear. For example, these customers may not experience the full benefits and services that AGM offers or the current partnership between AGM and PEAK. However, from our own business standpoint, it does make data analytics a bit more difficult as that would mean it is difficult to identify what they ordered through PEAK. If this mismatch remains as AGM scales their delivery system with PEAK, there will only be more mismatches. If the number of customers grow to a 100,000, the number of mismatched customers would be 13,000, which is a significant number that cannot be swept under the rug. This issue could be mitigated if we use PEAK's API and are given more visibility regarding the customers PEAK have that are using AGM's ordering system. However, that is not an option. As of now, relying on the JSON files given by PEAK, it is clear to AGM that the issue is already quite problematic.\n",
    "\n",
    "Regarding (2) 'give customer data to 3rd party sales channels', this would ensure that 3rd party sales channels like PEAK has access to AGM's customer data. This would allow PEAK to make any adjustments or clarify between each other the 'correct' data. However, this does introduce a new wave of issues such as privacy concerns about our customers, legal issues with signing Non Disclosure Agreements with different sales channels, what they can or cannot do, their credibility, their history, and what they will do with the data. Will these 3rd party sales channels share these customer data with other 3rd parties? This would also mean customers would have to sign a new term agreement and if the customers do not agree, then this may pose a loss of customers to AGM. This also opens new doors for cyberattacks, especially if AGM were to scale and have more customers, sharing private information such as their address would be a serious concern. On the flipside, this may improve the relationship between 3rd party sales channels such as PEAK with AGM and are more incentivized to do further business in other areas.\n",
    "\n",
    "Having discussed both options, my team recommends AGM to pursue option (2) 'give customer data to 3rd party sales channels'. While it does introduce new issues such as legal, privacy concerns, and relying on other companies, it would also mean the data will be 'corrected'. This would mean we won't have 13% of our customers not being matched and it would benefit our business. Further, giving our customer data is also equivalent to selling them. Selling our customer data, especially as our AGM business model scales, would provide us a new stream of revenue. AGm isn't the first business to give its customer data to 3rd party vendors and we won't be the last either. Why should we inhibit ourselves while other businesses are flourishing as a result of taking this course of action. While some of them have also seen some privacy issues, especially without the consent of their customers (Facebook and Cambridge Analytica), majority of businesses seem to find success with utilizing their data in this way. By giving or selling our customer data, there will also be more 3rd party sales channels who would be more willing to partner up with us and this would result in a much more profitable business for ourselves, for AGM."
   ]
  },
  {
   "cell_type": "code",
   "execution_count": null,
   "id": "3d7b4ab2",
   "metadata": {},
   "outputs": [],
   "source": []
  }
 ],
 "metadata": {
  "kernelspec": {
   "display_name": "Python 3 (ipykernel)",
   "language": "python",
   "name": "python3"
  },
  "language_info": {
   "codemirror_mode": {
    "name": "ipython",
    "version": 3
   },
   "file_extension": ".py",
   "mimetype": "text/x-python",
   "name": "python",
   "nbconvert_exporter": "python",
   "pygments_lexer": "ipython3",
   "version": "3.9.7"
  }
 },
 "nbformat": 4,
 "nbformat_minor": 5
}
